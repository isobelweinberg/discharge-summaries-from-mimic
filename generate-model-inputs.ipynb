{
 "cells": [
  {
   "cell_type": "code",
   "execution_count": 3,
   "metadata": {},
   "outputs": [],
   "source": [
    "# Extract the zipped files\n",
    "\n",
    "from extract_files import extract_gz_files, delete_gz_files\n",
    "\n",
    "folder_path = 'data/mimic-iv-clinical-database-demo-2.2/hosp'\n",
    "\n",
    "extract_gz_files(folder_path)\n",
    "delete_gz_files(folder_path)\n",
    "\n",
    "folder_path = 'data/mimic-iv-clinical-database-demo-2.2/icu'\n",
    "\n",
    "extract_gz_files(folder_path)\n",
    "delete_gz_files(folder_path)"
   ]
  },
  {
   "cell_type": "code",
   "execution_count": 4,
   "metadata": {},
   "outputs": [
    {
     "name": "stderr",
     "output_type": "stream",
     "text": [
      "c:\\Users\\Owner\\Dropbox\\Coding_projects\\discharge-summaries-from-mimic\\data_to_database.py:18: DtypeWarning: Columns (4,6,7,8,9,10,11,12,13,15,16,17,18,21,23,24,25,26,27,28,29,30,31,32) have mixed types. Specify dtype option on import or set low_memory=False.\n",
      "  df = pd.read_csv(file_path)\n"
     ]
    }
   ],
   "source": [
    "# Store the csv files in a SQL database\n",
    "\n",
    "from data_to_database import create_database\n",
    "\n",
    "data_path = 'data/mimic-iv-clinical-database-demo-2.2/hosp'\n",
    "db_path = 'data/mimic-iv-clinical-database-demo-2.2/collated_data.db'\n",
    "create_database(data_path, db_path)"
   ]
  },
  {
   "cell_type": "code",
   "execution_count": 5,
   "metadata": {},
   "outputs": [],
   "source": [
    "# Select tables which contain patient-level data, extract the data at a subject level and store it in a txt file\n",
    "\n",
    "from collate_data_over_subjects import create_model_inputs\n",
    "\n",
    "create_model_inputs('data/mimic-iv-clinical-database-demo-2.2/collated_data.db', 'data/mimic-iv-clinical-database-demo-2.2/subject-data')"
   ]
  }
 ],
 "metadata": {
  "kernelspec": {
   "display_name": ".myvenv",
   "language": "python",
   "name": "python3"
  },
  "language_info": {
   "codemirror_mode": {
    "name": "ipython",
    "version": 3
   },
   "file_extension": ".py",
   "mimetype": "text/x-python",
   "name": "python",
   "nbconvert_exporter": "python",
   "pygments_lexer": "ipython3",
   "version": "3.13.0"
  }
 },
 "nbformat": 4,
 "nbformat_minor": 2
}
